{
 "cells": [
  {
   "cell_type": "markdown",
   "id": "8eb607de-b8bd-470b-a320-23094a12ed95",
   "metadata": {},
   "source": [
    "## Anime Recommendation System Assignment\n"
   ]
  },
  {
   "cell_type": "code",
   "execution_count": 115,
   "id": "5f89e7d5-339f-481c-b887-31500319ada0",
   "metadata": {},
   "outputs": [],
   "source": [
    "import pandas as pd\n",
    "import numpy as np\n",
    "df = pd.read_csv(\"anime.csv\")"
   ]
  },
  {
   "cell_type": "code",
   "execution_count": 116,
   "id": "3e4c8762-6e06-4d12-8303-1169eada44d2",
   "metadata": {},
   "outputs": [
    {
     "data": {
      "text/html": [
       "<div>\n",
       "<style scoped>\n",
       "    .dataframe tbody tr th:only-of-type {\n",
       "        vertical-align: middle;\n",
       "    }\n",
       "\n",
       "    .dataframe tbody tr th {\n",
       "        vertical-align: top;\n",
       "    }\n",
       "\n",
       "    .dataframe thead th {\n",
       "        text-align: right;\n",
       "    }\n",
       "</style>\n",
       "<table border=\"1\" class=\"dataframe\">\n",
       "  <thead>\n",
       "    <tr style=\"text-align: right;\">\n",
       "      <th></th>\n",
       "      <th>anime_id</th>\n",
       "      <th>name</th>\n",
       "      <th>genre</th>\n",
       "      <th>type</th>\n",
       "      <th>episodes</th>\n",
       "      <th>rating</th>\n",
       "      <th>members</th>\n",
       "    </tr>\n",
       "  </thead>\n",
       "  <tbody>\n",
       "    <tr>\n",
       "      <th>0</th>\n",
       "      <td>32281</td>\n",
       "      <td>Kimi no Na wa.</td>\n",
       "      <td>Drama, Romance, School, Supernatural</td>\n",
       "      <td>Movie</td>\n",
       "      <td>1</td>\n",
       "      <td>9.37</td>\n",
       "      <td>200630</td>\n",
       "    </tr>\n",
       "    <tr>\n",
       "      <th>1</th>\n",
       "      <td>5114</td>\n",
       "      <td>Fullmetal Alchemist: Brotherhood</td>\n",
       "      <td>Action, Adventure, Drama, Fantasy, Magic, Mili...</td>\n",
       "      <td>TV</td>\n",
       "      <td>64</td>\n",
       "      <td>9.26</td>\n",
       "      <td>793665</td>\n",
       "    </tr>\n",
       "    <tr>\n",
       "      <th>2</th>\n",
       "      <td>28977</td>\n",
       "      <td>Gintama°</td>\n",
       "      <td>Action, Comedy, Historical, Parody, Samurai, S...</td>\n",
       "      <td>TV</td>\n",
       "      <td>51</td>\n",
       "      <td>9.25</td>\n",
       "      <td>114262</td>\n",
       "    </tr>\n",
       "    <tr>\n",
       "      <th>3</th>\n",
       "      <td>9253</td>\n",
       "      <td>Steins;Gate</td>\n",
       "      <td>Sci-Fi, Thriller</td>\n",
       "      <td>TV</td>\n",
       "      <td>24</td>\n",
       "      <td>9.17</td>\n",
       "      <td>673572</td>\n",
       "    </tr>\n",
       "    <tr>\n",
       "      <th>4</th>\n",
       "      <td>9969</td>\n",
       "      <td>Gintama&amp;#039;</td>\n",
       "      <td>Action, Comedy, Historical, Parody, Samurai, S...</td>\n",
       "      <td>TV</td>\n",
       "      <td>51</td>\n",
       "      <td>9.16</td>\n",
       "      <td>151266</td>\n",
       "    </tr>\n",
       "  </tbody>\n",
       "</table>\n",
       "</div>"
      ],
      "text/plain": [
       "   anime_id                              name  \\\n",
       "0     32281                    Kimi no Na wa.   \n",
       "1      5114  Fullmetal Alchemist: Brotherhood   \n",
       "2     28977                          Gintama°   \n",
       "3      9253                       Steins;Gate   \n",
       "4      9969                     Gintama&#039;   \n",
       "\n",
       "                                               genre   type episodes  rating  \\\n",
       "0               Drama, Romance, School, Supernatural  Movie        1    9.37   \n",
       "1  Action, Adventure, Drama, Fantasy, Magic, Mili...     TV       64    9.26   \n",
       "2  Action, Comedy, Historical, Parody, Samurai, S...     TV       51    9.25   \n",
       "3                                   Sci-Fi, Thriller     TV       24    9.17   \n",
       "4  Action, Comedy, Historical, Parody, Samurai, S...     TV       51    9.16   \n",
       "\n",
       "   members  \n",
       "0   200630  \n",
       "1   793665  \n",
       "2   114262  \n",
       "3   673572  \n",
       "4   151266  "
      ]
     },
     "execution_count": 116,
     "metadata": {},
     "output_type": "execute_result"
    }
   ],
   "source": [
    "df.head()"
   ]
  },
  {
   "cell_type": "code",
   "execution_count": 117,
   "id": "09e540b1-0eed-4ad4-b28d-c6e3f02ebd81",
   "metadata": {},
   "outputs": [
    {
     "name": "stdout",
     "output_type": "stream",
     "text": [
      "<class 'pandas.core.frame.DataFrame'>\n",
      "RangeIndex: 12294 entries, 0 to 12293\n",
      "Data columns (total 7 columns):\n",
      " #   Column    Non-Null Count  Dtype  \n",
      "---  ------    --------------  -----  \n",
      " 0   anime_id  12294 non-null  int64  \n",
      " 1   name      12294 non-null  object \n",
      " 2   genre     12232 non-null  object \n",
      " 3   type      12269 non-null  object \n",
      " 4   episodes  12294 non-null  object \n",
      " 5   rating    12064 non-null  float64\n",
      " 6   members   12294 non-null  int64  \n",
      "dtypes: float64(1), int64(2), object(4)\n",
      "memory usage: 672.5+ KB\n"
     ]
    }
   ],
   "source": [
    "df.info()"
   ]
  },
  {
   "cell_type": "code",
   "execution_count": 118,
   "id": "7b61b7fc-7a5f-4e23-9920-f66b7d158003",
   "metadata": {},
   "outputs": [
    {
     "data": {
      "text/html": [
       "<div>\n",
       "<style scoped>\n",
       "    .dataframe tbody tr th:only-of-type {\n",
       "        vertical-align: middle;\n",
       "    }\n",
       "\n",
       "    .dataframe tbody tr th {\n",
       "        vertical-align: top;\n",
       "    }\n",
       "\n",
       "    .dataframe thead th {\n",
       "        text-align: right;\n",
       "    }\n",
       "</style>\n",
       "<table border=\"1\" class=\"dataframe\">\n",
       "  <thead>\n",
       "    <tr style=\"text-align: right;\">\n",
       "      <th></th>\n",
       "      <th>anime_id</th>\n",
       "      <th>rating</th>\n",
       "      <th>members</th>\n",
       "    </tr>\n",
       "  </thead>\n",
       "  <tbody>\n",
       "    <tr>\n",
       "      <th>count</th>\n",
       "      <td>12294.000000</td>\n",
       "      <td>12064.000000</td>\n",
       "      <td>1.229400e+04</td>\n",
       "    </tr>\n",
       "    <tr>\n",
       "      <th>mean</th>\n",
       "      <td>14058.221653</td>\n",
       "      <td>6.473902</td>\n",
       "      <td>1.807134e+04</td>\n",
       "    </tr>\n",
       "    <tr>\n",
       "      <th>std</th>\n",
       "      <td>11455.294701</td>\n",
       "      <td>1.026746</td>\n",
       "      <td>5.482068e+04</td>\n",
       "    </tr>\n",
       "    <tr>\n",
       "      <th>min</th>\n",
       "      <td>1.000000</td>\n",
       "      <td>1.670000</td>\n",
       "      <td>5.000000e+00</td>\n",
       "    </tr>\n",
       "    <tr>\n",
       "      <th>25%</th>\n",
       "      <td>3484.250000</td>\n",
       "      <td>5.880000</td>\n",
       "      <td>2.250000e+02</td>\n",
       "    </tr>\n",
       "    <tr>\n",
       "      <th>50%</th>\n",
       "      <td>10260.500000</td>\n",
       "      <td>6.570000</td>\n",
       "      <td>1.550000e+03</td>\n",
       "    </tr>\n",
       "    <tr>\n",
       "      <th>75%</th>\n",
       "      <td>24794.500000</td>\n",
       "      <td>7.180000</td>\n",
       "      <td>9.437000e+03</td>\n",
       "    </tr>\n",
       "    <tr>\n",
       "      <th>max</th>\n",
       "      <td>34527.000000</td>\n",
       "      <td>10.000000</td>\n",
       "      <td>1.013917e+06</td>\n",
       "    </tr>\n",
       "  </tbody>\n",
       "</table>\n",
       "</div>"
      ],
      "text/plain": [
       "           anime_id        rating       members\n",
       "count  12294.000000  12064.000000  1.229400e+04\n",
       "mean   14058.221653      6.473902  1.807134e+04\n",
       "std    11455.294701      1.026746  5.482068e+04\n",
       "min        1.000000      1.670000  5.000000e+00\n",
       "25%     3484.250000      5.880000  2.250000e+02\n",
       "50%    10260.500000      6.570000  1.550000e+03\n",
       "75%    24794.500000      7.180000  9.437000e+03\n",
       "max    34527.000000     10.000000  1.013917e+06"
      ]
     },
     "execution_count": 118,
     "metadata": {},
     "output_type": "execute_result"
    }
   ],
   "source": [
    "df.describe()"
   ]
  },
  {
   "cell_type": "code",
   "execution_count": 119,
   "id": "32433b2a-22ee-4aba-a1e5-2d548d2a9ca4",
   "metadata": {},
   "outputs": [
    {
     "data": {
      "text/plain": [
       "anime_id      0\n",
       "name          0\n",
       "genre        62\n",
       "type         25\n",
       "episodes      0\n",
       "rating      230\n",
       "members       0\n",
       "dtype: int64"
      ]
     },
     "execution_count": 119,
     "metadata": {},
     "output_type": "execute_result"
    }
   ],
   "source": [
    "df.isnull().sum()"
   ]
  },
  {
   "cell_type": "code",
   "execution_count": 120,
   "id": "97500d4e-6842-4fcc-bde5-e387e5d4b71b",
   "metadata": {},
   "outputs": [],
   "source": [
    "# Dataset has columns like: anime_id, name, genre, type, episodes, rating, members.\n",
    "# Some null values are present, especially in rating and genre,type."
   ]
  },
  {
   "cell_type": "markdown",
   "id": "cc3f797f-1a3f-4768-9991-6d3aae0237f6",
   "metadata": {},
   "source": [
    "## Handle Missing Values"
   ]
  },
  {
   "cell_type": "code",
   "execution_count": 121,
   "id": "a9fc331b-b448-46a6-bad8-044355758022",
   "metadata": {},
   "outputs": [],
   "source": [
    "# Check missing values\n",
    "df.isnull().sum()\n",
    "# Fill missing 'genre' with 'Unknown'\n",
    "df['genre'] = df['genre'].fillna('Unknown')\n",
    "df['type'] = df['type'].fillna('Unknown')\n",
    "# Fill missing 'rating' and 'members' with their median values\n",
    "df['rating'] = df['rating'].fillna(df['rating'].median())\n",
    "df['members'] = df['members'].fillna(df['members'].median())"
   ]
  },
  {
   "cell_type": "code",
   "execution_count": 122,
   "id": "cde7103e-a050-4c23-8764-c306ae90fcf3",
   "metadata": {},
   "outputs": [
    {
     "data": {
      "text/plain": [
       "anime_id    0\n",
       "name        0\n",
       "genre       0\n",
       "type        0\n",
       "episodes    0\n",
       "rating      0\n",
       "members     0\n",
       "dtype: int64"
      ]
     },
     "execution_count": 122,
     "metadata": {},
     "output_type": "execute_result"
    }
   ],
   "source": [
    "df.isnull().sum()"
   ]
  },
  {
   "cell_type": "code",
   "execution_count": 123,
   "id": "cbb839e8-9e60-402f-8a99-83ce4eec80d3",
   "metadata": {},
   "outputs": [],
   "source": [
    "# We fill missing values to avoid errors during vectorization or modeling:\n",
    "# Replace missing genres and types with 'Unknown'.\n",
    "# Replace missing ratings with the median rating to preserve central tendency without being skewed by outliers."
   ]
  },
  {
   "cell_type": "markdown",
   "id": "0339e015-28ee-4c68-939a-2dd539c8704e",
   "metadata": {},
   "source": [
    "## feature extraction and scaling"
   ]
  },
  {
   "cell_type": "code",
   "execution_count": 124,
   "id": "238e4135-9249-4385-ba49-b0f9f9ebc7ac",
   "metadata": {},
   "outputs": [
    {
     "name": "stderr",
     "output_type": "stream",
     "text": [
      "C:\\ProgramData\\anaconda3\\Lib\\site-packages\\sklearn\\feature_extraction\\text.py:521: UserWarning: The parameter 'token_pattern' will not be used since 'tokenizer' is not None'\n",
      "  warnings.warn(\n"
     ]
    }
   ],
   "source": [
    "# Vectorize genre column\n",
    "vectorizer = CountVectorizer(tokenizer=lambda x: x.split(', '))\n",
    "genre_matrix = vectorizer.fit_transform(df['genre'])"
   ]
  },
  {
   "cell_type": "code",
   "execution_count": 125,
   "id": "7ab23b49-a9fd-478a-80ca-67398b9a6054",
   "metadata": {},
   "outputs": [],
   "source": [
    "from sklearn.preprocessing import MinMaxScaler\n",
    "# Create genre matrix (multi-label binarization)\n",
    "genre_dummies = df['genre'].str.get_dummies(sep=\", \")\n",
    "# Normalize numerical features\n",
    "scaler = MinMaxScaler()\n",
    "scaled_features = scaler.fit_transform(df[['rating', 'members']])\n",
    "scaled_df = pd.DataFrame(scaled_features, columns=['rating_scaled', 'members_scaled'])\n",
    "# Combine genre and scaled numerical features\n",
    "feature_matrix = pd.concat([genre_dummies, scaled_df], axis=1)"
   ]
  },
  {
   "cell_type": "code",
   "execution_count": 126,
   "id": "4516456a-0b85-49b6-b2cb-cd80cd742ed0",
   "metadata": {},
   "outputs": [],
   "source": [
    "# Genres are tokenized and vectorized for cosine similarity calculation.\n",
    "\n",
    "# Cosine similarity allows identifying anime with similar genres."
   ]
  },
  {
   "cell_type": "markdown",
   "id": "4b95e9fd-a4d6-46f4-84ec-4a8a33bab0c4",
   "metadata": {},
   "source": [
    "## Compute Cosine Similarity"
   ]
  },
  {
   "cell_type": "code",
   "execution_count": 127,
   "id": "c98fcf52-08cf-426c-97d9-01a81418312c",
   "metadata": {},
   "outputs": [],
   "source": [
    "cosine_sim = cosine_similarity(feature_matrix)\n",
    "anime_indices = pd.Series(df.index, index=df['name']).drop_duplicates()"
   ]
  },
  {
   "cell_type": "code",
   "execution_count": 128,
   "id": "559fb589-df12-4e4f-9859-36fe21ceb2ca",
   "metadata": {},
   "outputs": [
    {
     "data": {
      "text/plain": [
       "array([[1.        , 0.31070403, 0.13939258, ..., 0.15027155, 0.15431875,\n",
       "        0.17306034],\n",
       "       [0.31070403, 1.        , 0.35855939, ..., 0.11281034, 0.11583922,\n",
       "        0.12989711],\n",
       "       [0.13939258, 0.35855939, 1.        , ..., 0.11686118, 0.12000991,\n",
       "        0.1345863 ],\n",
       "       ...,\n",
       "       [0.15027155, 0.11281034, 0.11686118, ..., 1.        , 0.99994581,\n",
       "        0.99824985],\n",
       "       [0.15431875, 0.11583922, 0.12000991, ..., 0.99994581, 1.        ,\n",
       "        0.99881138],\n",
       "       [0.17306034, 0.12989711, 0.1345863 , ..., 0.99824985, 0.99881138,\n",
       "        1.        ]])"
      ]
     },
     "execution_count": 128,
     "metadata": {},
     "output_type": "execute_result"
    }
   ],
   "source": [
    "cosine_sim"
   ]
  },
  {
   "cell_type": "markdown",
   "id": "5b5661fb-892a-43fc-a135-64cd9f3deb00",
   "metadata": {},
   "source": [
    "## Recommendation Function"
   ]
  },
  {
   "cell_type": "code",
   "execution_count": 129,
   "id": "6bdf3d28-6acc-441d-a60f-db0656fbfec3",
   "metadata": {},
   "outputs": [],
   "source": [
    "def recommend_anime(anime_name, top_n=10):\n",
    "    idx = anime_indices[anime_name]\n",
    "    sim_scores = list(enumerate(cosine_sim[idx]))\n",
    "    sim_scores = sorted(sim_scores, key=lambda x: x[1], reverse=True)[1:top_n+1]\n",
    "    anime_indices_list = [i[0] for i in sim_scores]\n",
    "    return df[['name', 'genre', 'rating', 'members']].iloc[anime_indices_list]\n"
   ]
  },
  {
   "cell_type": "code",
   "execution_count": 130,
   "id": "2bde2972-6725-4ab0-9459-79a559e7f227",
   "metadata": {},
   "outputs": [],
   "source": [
    "# The function returns top k similar anime based on genre."
   ]
  },
  {
   "cell_type": "markdown",
   "id": "05fe417a-1dad-4aab-83ef-5f228fc7cdec",
   "metadata": {},
   "source": [
    "## Evaluation Function"
   ]
  },
  {
   "cell_type": "code",
   "execution_count": 131,
   "id": "531b2e40-e823-4c06-ae64-68cb03e00796",
   "metadata": {},
   "outputs": [],
   "source": [
    "def evaluate_precision_recall(anime_name, k=10):\n",
    "    idx = anime_indices[anime_name]\n",
    "    sim_scores = list(enumerate(cosine_sim[idx]))\n",
    "    sim_scores = sorted(sim_scores, key=lambda x: x[1], reverse=True)[1:k+1]\n",
    "    recommended_indices = [i[0] for i in sim_scores]\n",
    "    \n",
    "    target_genres = set(df.iloc[idx]['genre'].split(', '))\n",
    "    \n",
    "    relevant_count = 0\n",
    "    for i in recommended_indices:\n",
    "        if target_genres & set(df.iloc[i]['genre'].split(', ')):\n",
    "            relevant_count += 1\n",
    "\n",
    "    precision = relevant_count / k\n",
    "    total_relevant_items = sum(1 for g in df['genre'] if target_genres & set(g.split(', ')))\n",
    "    recall = relevant_count / total_relevant_items if total_relevant_items > 0 else 0\n",
    "    f1 = 2 * (precision * recall) / (precision + recall) if (precision + recall) else 0\n",
    "    \n",
    "    return precision, recall, f1\n"
   ]
  },
  {
   "cell_type": "code",
   "execution_count": 132,
   "id": "2941107a-a8aa-4906-8659-92099193dbbe",
   "metadata": {},
   "outputs": [],
   "source": [
    "# Precision: Fraction of recommended anime that are genre-relevant.\n",
    "\n",
    "# Recall: Fraction of relevant anime that were recommended.\n",
    "\n",
    "# F1-score: Harmonic mean of precision and recall."
   ]
  },
  {
   "cell_type": "markdown",
   "id": "7ede068c-d00a-4dbb-94e0-e3d7f4f0c643",
   "metadata": {},
   "source": [
    "## Test Evaluation for Different k Values"
   ]
  },
  {
   "cell_type": "code",
   "execution_count": 133,
   "id": "b07653e6-3a27-47f5-a826-203f0b12333a",
   "metadata": {},
   "outputs": [
    {
     "name": "stdout",
     "output_type": "stream",
     "text": [
      "k=5 => Precision: 1.0000, Recall: 0.0007, F1: 0.0014\n",
      "k=10 => Precision: 1.0000, Recall: 0.0014, F1: 0.0028\n",
      "k=15 => Precision: 1.0000, Recall: 0.0021, F1: 0.0043\n",
      "k=20 => Precision: 1.0000, Recall: 0.0029, F1: 0.0057\n",
      "k=25 => Precision: 1.0000, Recall: 0.0036, F1: 0.0071\n",
      "k=30 => Precision: 1.0000, Recall: 0.0043, F1: 0.0085\n"
     ]
    }
   ],
   "source": [
    "target = 'Naruto'\n",
    "for k in [5, 10, 15, 20, 25, 30]:\n",
    "    precision, recall, f1 = evaluate_precision_recall(target, k)\n",
    "    print(f\"k={k} => Precision: {precision:.4f}, Recall: {recall:.4f}, F1: {f1:.4f}\")\n"
   ]
  },
  {
   "cell_type": "code",
   "execution_count": 134,
   "id": "b13e66b6-ff47-4baa-8054-f36142e4f045",
   "metadata": {},
   "outputs": [],
   "source": [
    "# As k increases, recall increases, but precision may decrease."
   ]
  },
  {
   "cell_type": "code",
   "execution_count": 135,
   "id": "e67afe2a-e307-4181-8c44-f4cc68b3b89d",
   "metadata": {},
   "outputs": [],
   "source": [
    "# We developed a genre-based anime recommendation system using cosine similarity. \n",
    "# Evaluation was done using precision, recall, and F1-score. \n",
    "# The system performed well for top-5 recommendations, though recall remained low due to limited information (only genres)."
   ]
  },
  {
   "cell_type": "markdown",
   "id": "d216703b-c737-449d-86f4-deedd28a7697",
   "metadata": {},
   "source": [
    "## INTERVIEW QUESTIONS "
   ]
  },
  {
   "cell_type": "markdown",
   "id": "dedbf013-90c8-469b-be7d-fb6f6b55098b",
   "metadata": {},
   "source": [
    "## 1. Can you explain the difference between user-based and item-based collaborative filtering?"
   ]
  },
  {
   "cell_type": "code",
   "execution_count": 136,
   "id": "5e069084-892b-4d0d-b0f4-f01bdb4538a5",
   "metadata": {},
   "outputs": [],
   "source": [
    "# User-Based: Looks for similar users to make recommendations.\n",
    "# Item-Based: Looks for similar items based on co-occurrence.\n",
    "# User-Based Collaborative FilteringRecommends items liked by users similar to you.\t\n",
    "# Item-Based Collaborative Filtering Recommends items similar to what you liked."
   ]
  },
  {
   "cell_type": "markdown",
   "id": "2742776e-389b-49a3-9ab6-ce52bff8ad05",
   "metadata": {},
   "source": [
    "## 2. What is collaborative filtering, and how does it work?\n"
   ]
  },
  {
   "cell_type": "code",
   "execution_count": 137,
   "id": "6a4efad6-cfb1-48e7-ada7-c271fc9faf7b",
   "metadata": {},
   "outputs": [],
   "source": [
    "# Collaborative filtering is a popular recommendation technique that uses the behavior of users (like ratings, clicks, purchases) to make predictions about what a user will like.\n",
    "\n",
    "# If User A and User B both liked Naruto, and User A also liked One Piece, we might recommend One Piece to User B — even if B never heard of it. That's collaborative filtering.\n",
    "\n",
    "# Create a user-item interaction matrix (e.g., ratings or likes).\n",
    "\n",
    "# Compute similarities between users or items (using cosine similarity, Pearson, etc.).\n",
    "\n",
    "# Predict unknown ratings or preferences using these similarities.\n",
    "\n",
    "# Recommend items with the highest predicted score."
   ]
  }
 ],
 "metadata": {
  "kernelspec": {
   "display_name": "Python 3 (ipykernel)",
   "language": "python",
   "name": "python3"
  },
  "language_info": {
   "codemirror_mode": {
    "name": "ipython",
    "version": 3
   },
   "file_extension": ".py",
   "mimetype": "text/x-python",
   "name": "python",
   "nbconvert_exporter": "python",
   "pygments_lexer": "ipython3",
   "version": "3.12.7"
  }
 },
 "nbformat": 4,
 "nbformat_minor": 5
}
